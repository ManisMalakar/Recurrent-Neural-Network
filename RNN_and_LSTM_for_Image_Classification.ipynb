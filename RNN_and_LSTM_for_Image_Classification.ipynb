{
  "nbformat": 4,
  "nbformat_minor": 0,
  "metadata": {
    "colab": {
      "name": "RNN and LSTM for Image Classification.ipynb",
      "provenance": [],
      "authorship_tag": "ABX9TyOOPvD8q+5HeXePU2jJ2Fpp",
      "include_colab_link": true
    },
    "kernelspec": {
      "name": "python3",
      "display_name": "Python 3"
    }
  },
  "cells": [
    {
      "cell_type": "markdown",
      "metadata": {
        "id": "view-in-github",
        "colab_type": "text"
      },
      "source": [
        "<a href=\"https://colab.research.google.com/github/ManisMalakar/Recurrent-Neural-Network/blob/main/RNN_and_LSTM_for_Image_Classification.ipynb\" target=\"_parent\"><img src=\"https://colab.research.google.com/assets/colab-badge.svg\" alt=\"Open In Colab\"/></a>"
      ]
    },
    {
      "cell_type": "code",
      "metadata": {
        "id": "JkFX9xCLCl70"
      },
      "source": [
        "import tensorflow as tf\n",
        "import pandas as pd\n",
        "import numpy as np\n",
        "import matplotlib.pyplot as plt"
      ],
      "execution_count": 2,
      "outputs": []
    },
    {
      "cell_type": "code",
      "metadata": {
        "colab": {
          "base_uri": "https://localhost:8080/"
        },
        "id": "r-S-a70qCrh6",
        "outputId": "3daf0e7d-2763-4593-992b-8bb7d6bd7b47"
      },
      "source": [
        "#Data PreProcessing\n",
        "#Importing the dataset\n",
        "from tensorflow.keras.datasets import mnist\n",
        "\n",
        "#Loading the dataset\n",
        "(x_train,y_train),(x_test,y_test)=mnist.load_data()"
      ],
      "execution_count": 3,
      "outputs": [
        {
          "output_type": "stream",
          "text": [
            "Downloading data from https://storage.googleapis.com/tensorflow/tf-keras-datasets/mnist.npz\n",
            "11493376/11490434 [==============================] - 0s 0us/step\n"
          ],
          "name": "stdout"
        }
      ]
    },
    {
      "cell_type": "code",
      "metadata": {
        "colab": {
          "base_uri": "https://localhost:8080/"
        },
        "id": "fV-LUKf5DNTc",
        "outputId": "5978d163-fc3e-4783-96b2-7174b943e494"
      },
      "source": [
        "x_train.shape,x_test.shape"
      ],
      "execution_count": 7,
      "outputs": [
        {
          "output_type": "execute_result",
          "data": {
            "text/plain": [
              "((60000, 28, 28), (10000, 28, 28))"
            ]
          },
          "metadata": {
            "tags": []
          },
          "execution_count": 7
        }
      ]
    },
    {
      "cell_type": "code",
      "metadata": {
        "colab": {
          "base_uri": "https://localhost:8080/"
        },
        "id": "-nyaCm5ODWuA",
        "outputId": "7fab9240-41fb-49cd-b5e9-803ba95fcdf9"
      },
      "source": [
        "y_test.shape,y_train.shape"
      ],
      "execution_count": 8,
      "outputs": [
        {
          "output_type": "execute_result",
          "data": {
            "text/plain": [
              "((10000,), (60000,))"
            ]
          },
          "metadata": {
            "tags": []
          },
          "execution_count": 8
        }
      ]
    },
    {
      "cell_type": "code",
      "metadata": {
        "colab": {
          "base_uri": "https://localhost:8080/"
        },
        "id": "YhhBffBMDb40",
        "outputId": "3b75a1c3-353f-4692-ad6e-01946c112f39"
      },
      "source": [
        "x_train.min(),x_train.max()"
      ],
      "execution_count": 9,
      "outputs": [
        {
          "output_type": "execute_result",
          "data": {
            "text/plain": [
              "(0, 255)"
            ]
          },
          "metadata": {
            "tags": []
          },
          "execution_count": 9
        }
      ]
    },
    {
      "cell_type": "code",
      "metadata": {
        "colab": {
          "base_uri": "https://localhost:8080/"
        },
        "id": "Wd6iSGK5De7n",
        "outputId": "0be59ccd-4ff7-43a3-e95e-b2181f10b1f2"
      },
      "source": [
        "y_train.min(),y_train.max()"
      ],
      "execution_count": 10,
      "outputs": [
        {
          "output_type": "execute_result",
          "data": {
            "text/plain": [
              "(0, 9)"
            ]
          },
          "metadata": {
            "tags": []
          },
          "execution_count": 10
        }
      ]
    },
    {
      "cell_type": "code",
      "metadata": {
        "id": "WTdrmHbKDhxz"
      },
      "source": [
        "#Normalizing the dataset\n",
        "x_train=x_train/255.0\n",
        "x_test=x_test/255.0"
      ],
      "execution_count": 11,
      "outputs": []
    },
    {
      "cell_type": "code",
      "metadata": {
        "colab": {
          "base_uri": "https://localhost:8080/"
        },
        "id": "7eAsL81EDrDq",
        "outputId": "27a0995e-3b89-453b-fa61-8a2c6ec1ce65"
      },
      "source": [
        "x_train.min(),x_train.max()"
      ],
      "execution_count": 12,
      "outputs": [
        {
          "output_type": "execute_result",
          "data": {
            "text/plain": [
              "(0.0, 1.0)"
            ]
          },
          "metadata": {
            "tags": []
          },
          "execution_count": 12
        }
      ]
    },
    {
      "cell_type": "code",
      "metadata": {
        "colab": {
          "base_uri": "https://localhost:8080/",
          "height": 282
        },
        "id": "wHT8uywiDsld",
        "outputId": "ecfba344-6528-4764-c9fa-523d89a1e1de"
      },
      "source": [
        "plt.imshow(x_train[20])"
      ],
      "execution_count": 13,
      "outputs": [
        {
          "output_type": "execute_result",
          "data": {
            "text/plain": [
              "<matplotlib.image.AxesImage at 0x7efba9d22e10>"
            ]
          },
          "metadata": {
            "tags": []
          },
          "execution_count": 13
        },
        {
          "output_type": "display_data",
          "data": {
            "image/png": "[encoded data removed]",
            "text/plain": [
              "<Figure size 432x288 with 1 Axes>"
            ]
          },
          "metadata": {
            "tags": [],
            "needs_background": "light"
          }
        }
      ]
    },
    {
      "cell_type": "code",
      "metadata": {
        "colab": {
          "base_uri": "https://localhost:8080/"
        },
        "id": "rOFwIKNfDv-9",
        "outputId": "392a40a6-ee60-4633-b9bf-96dabe4e719f"
      },
      "source": [
        "y_train[20]"
      ],
      "execution_count": 14,
      "outputs": [
        {
          "output_type": "execute_result",
          "data": {
            "text/plain": [
              "4"
            ]
          },
          "metadata": {
            "tags": []
          },
          "execution_count": 14
        }
      ]
    },
    {
      "cell_type": "code",
      "metadata": {
        "id": "yfzDcTC8D0H3"
      },
      "source": [
        "#Building the model\n",
        "#Initializing RNN\n",
        "model=tf.keras.models.Sequential()\n",
        "\n",
        "#Adding the first LSTM layer\n",
        "model.add(tf.keras.layers.LSTM(units=128,activation='relu',return_sequences=True, input_shape=(28,28)))"
      ],
      "execution_count": 15,
      "outputs": []
    },
    {
      "cell_type": "code",
      "metadata": {
        "id": "pX7fxcciEkLz"
      },
      "source": [
        "#Adding the dropuout layer\n",
        "model.add(tf.keras.layers.Dropout(0.2))"
      ],
      "execution_count": 16,
      "outputs": []
    },
    {
      "cell_type": "code",
      "metadata": {
        "id": "226HICioEp5H"
      },
      "source": [
        "#Adding the second LSTM layer\n",
        "model.add(tf.keras.layers.LSTM(units=128,activation='relu'))"
      ],
      "execution_count": 17,
      "outputs": []
    },
    {
      "cell_type": "code",
      "metadata": {
        "id": "Ym8TGwDkExEB"
      },
      "source": [
        "#Adding the dropuout layer\n",
        "model.add(tf.keras.layers.Dropout(0.2))"
      ],
      "execution_count": 18,
      "outputs": []
    },
    {
      "cell_type": "code",
      "metadata": {
        "id": "bRctx6gkE0Pk"
      },
      "source": [
        "#Adding the fully connected dense layer\n",
        "model.add(tf.keras.layers.Dense(units=32,activation='relu'))\n",
        "\n",
        "#Adding the dropuout layer\n",
        "model.add(tf.keras.layers.Dropout(0.2))"
      ],
      "execution_count": 19,
      "outputs": []
    },
    {
      "cell_type": "code",
      "metadata": {
        "id": "7sJeIze_E8fp"
      },
      "source": [
        "#Adding the output layer\n",
        "model.add(tf.keras.layers.Dense(units=10,activation='softmax'))"
      ],
      "execution_count": 20,
      "outputs": []
    },
    {
      "cell_type": "code",
      "metadata": {
        "colab": {
          "base_uri": "https://localhost:8080/"
        },
        "id": "8_OsiZkCFHQo",
        "outputId": "5459d6de-5e69-4c45-f8a8-cf9d005f2209"
      },
      "source": [
        "model.summary()"
      ],
      "execution_count": 21,
      "outputs": [
        {
          "output_type": "stream",
          "text": [
            "Model: \"sequential\"\n",
            "_________________________________________________________________\n",
            "Layer (type)                 Output Shape              Param #   \n",
            "=================================================================\n",
            "lstm (LSTM)                  (None, 28, 128)           80384     \n",
            "_________________________________________________________________\n",
            "dropout (Dropout)            (None, 28, 128)           0         \n",
            "_________________________________________________________________\n",
            "lstm_1 (LSTM)                (None, 128)               131584    \n",
            "_________________________________________________________________\n",
            "dropout_1 (Dropout)          (None, 128)               0         \n",
            "_________________________________________________________________\n",
            "dense (Dense)                (None, 32)                4128      \n",
            "_________________________________________________________________\n",
            "dropout_2 (Dropout)          (None, 32)                0         \n",
            "_________________________________________________________________\n",
            "dense_1 (Dense)              (None, 10)                330       \n",
            "=================================================================\n",
            "Total params: 216,426\n",
            "Trainable params: 216,426\n",
            "Non-trainable params: 0\n",
            "_________________________________________________________________\n"
          ],
          "name": "stdout"
        }
      ]
    },
    {
      "cell_type": "code",
      "metadata": {
        "id": "xr8BRy21FJXt"
      },
      "source": [
        "#Optimizer\n",
        "opt=tf.keras.optimizers.Adam(learning_rate=0.001)"
      ],
      "execution_count": 22,
      "outputs": []
    },
    {
      "cell_type": "code",
      "metadata": {
        "id": "yVInPqoGFWAg"
      },
      "source": [
        "#Compiling the mode\n",
        "model.compile(optimizer=opt,loss='sparse_categorical_crossentropy',metrics=['accuracy'])"
      ],
      "execution_count": 23,
      "outputs": []
    },
    {
      "cell_type": "code",
      "metadata": {
        "colab": {
          "base_uri": "https://localhost:8080/"
        },
        "id": "R69nN1zNFfwg",
        "outputId": "5f329090-f91a-449e-de72-43a64ed218d6"
      },
      "source": [
        "history=model.fit(x_train,y_train,epochs=10,validation_data=(x_test,y_test))"
      ],
      "execution_count": 24,
      "outputs": [
        {
          "output_type": "stream",
          "text": [
            "Epoch 1/10\n",
            "1875/1875 [==============================] - 106s 56ms/step - loss: 1.1943 - accuracy: 0.5844 - val_loss: 0.1787 - val_accuracy: 0.9439\n",
            "Epoch 2/10\n",
            "1875/1875 [==============================] - 102s 54ms/step - loss: 0.2105 - accuracy: 0.9422 - val_loss: 0.1074 - val_accuracy: 0.9666\n",
            "Epoch 3/10\n",
            "1875/1875 [==============================] - 102s 55ms/step - loss: 0.1272 - accuracy: 0.9664 - val_loss: 0.0840 - val_accuracy: 0.9765\n",
            "Epoch 4/10\n",
            "1875/1875 [==============================] - 101s 54ms/step - loss: 0.0925 - accuracy: 0.9754 - val_loss: 0.0712 - val_accuracy: 0.9804\n",
            "Epoch 5/10\n",
            "1875/1875 [==============================] - 101s 54ms/step - loss: 0.2745 - accuracy: 0.9626 - val_loss: 0.0574 - val_accuracy: 0.9840\n",
            "Epoch 6/10\n",
            "1875/1875 [==============================] - 101s 54ms/step - loss: 0.0694 - accuracy: 0.9816 - val_loss: 0.0535 - val_accuracy: 0.9841\n",
            "Epoch 7/10\n",
            "1875/1875 [==============================] - 101s 54ms/step - loss: 0.0597 - accuracy: 0.9842 - val_loss: 0.0407 - val_accuracy: 0.9894\n",
            "Epoch 8/10\n",
            "1875/1875 [==============================] - 100s 53ms/step - loss: 0.0665 - accuracy: 0.9832 - val_loss: 0.0518 - val_accuracy: 0.9843\n",
            "Epoch 9/10\n",
            "1875/1875 [==============================] - 101s 54ms/step - loss: 0.0478 - accuracy: 0.9868 - val_loss: 0.0502 - val_accuracy: 0.9859\n",
            "Epoch 10/10\n",
            "1875/1875 [==============================] - 100s 53ms/step - loss: 0.0521 - accuracy: 0.9869 - val_loss: 0.0560 - val_accuracy: 0.9867\n"
          ],
          "name": "stdout"
        }
      ]
    },
    {
      "cell_type": "code",
      "metadata": {
        "colab": {
          "base_uri": "https://localhost:8080/"
        },
        "id": "9wreZFMhFv3j",
        "outputId": "4004d0e4-2d05-4e59-8cae-9939b2b6d079"
      },
      "source": [
        "#Making predictions\n",
        "y_pred=model.predict_classes(x_test)"
      ],
      "execution_count": 25,
      "outputs": [
        {
          "output_type": "stream",
          "text": [
            "/usr/local/lib/python3.6/dist-packages/tensorflow/python/keras/engine/sequential.py:450: UserWarning: `model.predict_classes()` is deprecated and will be removed after 2021-01-01. Please use instead:* `np.argmax(model.predict(x), axis=-1)`,   if your model does multi-class classification   (e.g. if it uses a `softmax` last-layer activation).* `(model.predict(x) > 0.5).astype(\"int32\")`,   if your model does binary classification   (e.g. if it uses a `sigmoid` last-layer activation).\n",
            "  warnings.warn('`model.predict_classes()` is deprecated and '\n"
          ],
          "name": "stderr"
        }
      ]
    },
    {
      "cell_type": "code",
      "metadata": {
        "colab": {
          "base_uri": "https://localhost:8080/"
        },
        "id": "SVQcpKwGMqRH",
        "outputId": "51db7687-0c18-43fc-83ec-9e40a0e8c91d"
      },
      "source": [
        "print(y_pred[10]),print(y_pred[10])"
      ],
      "execution_count": 26,
      "outputs": [
        {
          "output_type": "stream",
          "text": [
            "0\n",
            "0\n"
          ],
          "name": "stdout"
        },
        {
          "output_type": "execute_result",
          "data": {
            "text/plain": [
              "(None, None)"
            ]
          },
          "metadata": {
            "tags": []
          },
          "execution_count": 26
        }
      ]
    },
    {
      "cell_type": "code",
      "metadata": {
        "colab": {
          "base_uri": "https://localhost:8080/"
        },
        "id": "DG2bxKhqMwyU",
        "outputId": "7fe57168-0ee9-4c7c-bf6f-df58ebdbc10a"
      },
      "source": [
        "# Confusion matrix\n",
        "from sklearn.metrics import confusion_matrix, accuracy_score\n",
        "cm = confusion_matrix(y_test, y_pred)\n",
        "print(cm)"
      ],
      "execution_count": 27,
      "outputs": [
        {
          "output_type": "stream",
          "text": [
            "[[ 972    0    0    0    0    1    3    1    3    0]\n",
            " [   0 1134    0    0    0    0    1    0    0    0]\n",
            " [   1    2 1022    1    1    0    1    3    0    1]\n",
            " [   0    0    3  986    0   15    0    2    4    0]\n",
            " [   0    0    0    0  976    0    1    0    0    5]\n",
            " [   0    1    1    1    0  887    1    1    0    0]\n",
            " [   2    4    1    0    1    8  942    0    0    0]\n",
            " [   0    2    5    0    1    0    0 1017    0    3]\n",
            " [   0    4    1    1    2    5    1    3  957    0]\n",
            " [   1    0    0    0   11   10    0   10    3  974]]\n"
          ],
          "name": "stdout"
        }
      ]
    },
    {
      "cell_type": "code",
      "metadata": {
        "colab": {
          "base_uri": "https://localhost:8080/"
        },
        "id": "818sVRxCM7Oh",
        "outputId": "0a8cae2b-36ce-41c9-b536-b9de1f0b23d5"
      },
      "source": [
        "acc_cm = accuracy_score(y_test, y_pred)\n",
        "print(acc_cm)"
      ],
      "execution_count": 28,
      "outputs": [
        {
          "output_type": "stream",
          "text": [
            "0.9867\n"
          ],
          "name": "stdout"
        }
      ]
    },
    {
      "cell_type": "code",
      "metadata": {
        "id": "gifIdpPGM8qj"
      },
      "source": [
        "def learning_curve(history, epoch):\n",
        "\n",
        "  # training vs validation accuracy\n",
        "  epoch_range = range(1, epoch+1)\n",
        "  plt.plot(epoch_range, history.history['accuracy'])\n",
        "  plt.plot(epoch_range, history.history['val_accuracy'])\n",
        "  plt.title('Model Accuracy')\n",
        "  plt.ylabel('Accuracy')\n",
        "  plt.xlabel('Epoch')\n",
        "  plt.legend(['Train', 'val'], loc='upper left')\n",
        "  plt.show()\n",
        "\n",
        "  # training vs validation loss\n",
        "  plt.plot(epoch_range, history.history['loss'])\n",
        "  plt.plot(epoch_range, history.history['val_loss'])\n",
        "  plt.title('Model Loss')\n",
        "  plt.ylabel('Loss')\n",
        "  plt.xlabel('Epoch')\n",
        "  plt.legend(['Train', 'val'], loc='upper left')\n",
        "  plt.show()"
      ],
      "execution_count": 29,
      "outputs": []
    },
    {
      "cell_type": "code",
      "metadata": {
        "colab": {
          "base_uri": "https://localhost:8080/",
          "height": 573
        },
        "id": "xT9vaHAAM-AN",
        "outputId": "223b4f78-81cf-44ef-e198-080fe40b2909"
      },
      "source": [
        "learning_curve(history, 10)"
      ],
      "execution_count": 30,
      "outputs": [
        {
          "output_type": "display_data",
          "data": {
            "image/png": "[encoded data removed]",
            "text/plain": [
              "<Figure size 432x288 with 1 Axes>"
            ]
          },
          "metadata": {
            "tags": [],
            "needs_background": "light"
          }
        },
        {
          "output_type": "display_data",
          "data": {
            "image/png": "[encoded data removed]",
            "text/plain": [
              "<Figure size 432x288 with 1 Axes>"
            ]
          },
          "metadata": {
            "tags": [],
            "needs_background": "light"
          }
        }
      ]
    }
  ]
}